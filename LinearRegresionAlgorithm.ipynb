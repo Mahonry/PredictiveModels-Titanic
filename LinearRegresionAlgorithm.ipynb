{
 "cells": [
  {
   "cell_type": "code",
   "execution_count": 11,
   "metadata": {},
   "outputs": [],
   "source": [
    "import numpy as np\n",
    "import matplotlib.pyplot as plt\n",
    "%matplotlib inline"
   ]
  },
  {
   "cell_type": "code",
   "execution_count": 12,
   "metadata": {},
   "outputs": [],
   "source": [
    "def estimate_b0_b1(x,y):\n",
    "    n = np.size(x)\n",
    "    \n",
    "    # Obtenemos los promedios de X y de Y\n",
    "    mean_x, mean_y = np.mean(x), np.mean(y)\n",
    "    \n",
    "    # Calcular sumatoria de XY y sumatoria de XX\n",
    "    sumatoria_xy = np.sum((x - mean_x)*(y - mean_y))\n",
    "    sumatoria_xx = np.sum(x*(x-mean_x))\n",
    "    \n",
    "    # Coeficientes de Regresion\n",
    "    b_1 = sumatoria_xy /  sumatoria_xx\n",
    "    b_0 = mean_y - b_1*mean_x\n",
    "    \n",
    "    return (b_0, b_1)"
   ]
  },
  {
   "cell_type": "code",
   "execution_count": 15,
   "metadata": {},
   "outputs": [],
   "source": [
    "# Funcion de graficado\n",
    "\n",
    "def plot_regression(x,y,b):\n",
    "    plt.scatter(x, y, color = 'm', marker = 'o', s = 30)\n",
    "    \n",
    "    y_pred = b[0] + b[1]*x\n",
    "    plt.plot(x, y_pred, color = 'b')\n",
    "    \n",
    "    # Etiquetado\n",
    "    plt.xlabel('x - Independiente')\n",
    "    plt.ylabel('y - Dependiente')\n",
    "    \n",
    "    plt.show()"
   ]
  },
  {
   "cell_type": "code",
   "execution_count": 16,
   "metadata": {},
   "outputs": [
    {
     "name": "stdout",
     "output_type": "stream",
     "text": [
      "Los valores = (1.5, 0.9)\n"
     ]
    },
    {
     "data": {
      "image/png": "[encoded data removed]",
      "text/plain": [
       "<Figure size 432x288 with 1 Axes>"
      ]
     },
     "metadata": {
      "needs_background": "light"
     },
     "output_type": "display_data"
    }
   ],
   "source": [
    "# Codigo main \n",
    "def main():\n",
    "\n",
    "    x = np.array([1,2,3,4,5])\n",
    "    y = np.array([2,3,5,6,5])\n",
    "    \n",
    "    b = estimate_b0_b1(x,y)\n",
    "    print('Los valores = {}'.format(b))\n",
    "    \n",
    "    plot_regression(x,y,b)\n",
    "    \n",
    "\n",
    "if __name__ == '__main__':\n",
    "    main()"
   ]
  }
 ],
 "metadata": {
  "kernelspec": {
   "display_name": "Python 3",
   "language": "python",
   "name": "python3"
  },
  "language_info": {
   "codemirror_mode": {
    "name": "ipython",
    "version": 3
   },
   "file_extension": ".py",
   "mimetype": "text/x-python",
   "name": "python",
   "nbconvert_exporter": "python",
   "pygments_lexer": "ipython3",
   "version": "3.7.6"
  }
 },
 "nbformat": 4,
 "nbformat_minor": 4
}
